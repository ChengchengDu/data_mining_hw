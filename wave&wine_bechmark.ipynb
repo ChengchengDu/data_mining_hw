{
 "cells": [
  {
   "cell_type": "code",
   "execution_count": 47,
   "metadata": {},
   "outputs": [],
   "source": [
    "import numpy as np\n",
    "import pandas as pd\n",
    "import matplotlib.pyplot as plt\n",
    "from pyod.models.xgbod import XGBOD\n",
    "from pyod.models.iforest import IForest\n",
    "from pyod.utils.data import evaluate_print\n",
    "from pyod.utils.example import visualize\n",
    "from MulticoreTSNE import MulticoreTSNE as TSNE\n",
    "import os\n",
    "from sklearn.model_selection import train_test_split\n",
    "from pyod.models.knn import KNN\n",
    "from sklearn.metrics import accuracy_score,recall_score"
   ]
  },
  {
   "cell_type": "markdown",
   "metadata": {},
   "source": [
    "## 一、Wave Benchmarks"
   ]
  },
  {
   "cell_type": "markdown",
   "metadata": {},
   "source": [
    "### 合并数据集，得到大概是9万条数据"
   ]
  },
  {
   "cell_type": "code",
   "execution_count": 48,
   "metadata": {},
   "outputs": [
    {
     "name": "stdout",
     "output_type": "stream",
     "text": [
      "93310\n"
     ]
    }
   ],
   "source": [
    "path = '.\\\\wave_benchmarks\\\\wave\\\\benchmarks'\n",
    "data_wave = pd.read_csv('.\\\\wave_benchmarks\\\\wave\\\\benchmarks\\\\wave_benchmark_0001.csv')\n",
    "for i, file_name in enumerate(os.listdir('.\\\\wave_benchmarks\\\\wave\\\\benchmarks')[:30]):\n",
    "    data_wave_i = pd.read_csv(path + '\\\\' + file_name)\n",
    "    data_wave = pd.concat([data_wave, data_wave_i], ignore_index=True, sort=False)\n",
    "print(len(data_wave))"
   ]
  },
  {
   "cell_type": "markdown",
   "metadata": {},
   "source": [
    "### 数据摘要"
   ]
  },
  {
   "cell_type": "code",
   "execution_count": 49,
   "metadata": {},
   "outputs": [
    {
     "data": {
      "text/html": [
       "<div>\n",
       "<style scoped>\n",
       "    .dataframe tbody tr th:only-of-type {\n",
       "        vertical-align: middle;\n",
       "    }\n",
       "\n",
       "    .dataframe tbody tr th {\n",
       "        vertical-align: top;\n",
       "    }\n",
       "\n",
       "    .dataframe thead th {\n",
       "        text-align: right;\n",
       "    }\n",
       "</style>\n",
       "<table border=\"1\" class=\"dataframe\">\n",
       "  <thead>\n",
       "    <tr style=\"text-align: right;\">\n",
       "      <th></th>\n",
       "      <th>point.id</th>\n",
       "      <th>motherset</th>\n",
       "      <th>origin</th>\n",
       "      <th>original.label</th>\n",
       "      <th>diff.score</th>\n",
       "      <th>ground.truth</th>\n",
       "      <th>V</th>\n",
       "      <th>V.1</th>\n",
       "      <th>V.2</th>\n",
       "      <th>V.3</th>\n",
       "      <th>...</th>\n",
       "      <th>noise..54</th>\n",
       "      <th>noise..55</th>\n",
       "      <th>noise..56</th>\n",
       "      <th>noise..57</th>\n",
       "      <th>noise..58</th>\n",
       "      <th>noise..59</th>\n",
       "      <th>noise..60</th>\n",
       "      <th>noise..61</th>\n",
       "      <th>noise..62</th>\n",
       "      <th>noise..63</th>\n",
       "    </tr>\n",
       "  </thead>\n",
       "  <tbody>\n",
       "    <tr>\n",
       "      <th>0</th>\n",
       "      <td>wave_point_0242</td>\n",
       "      <td>wave</td>\n",
       "      <td>multiclass</td>\n",
       "      <td>2</td>\n",
       "      <td>0.001130</td>\n",
       "      <td>nominal</td>\n",
       "      <td>0.440395</td>\n",
       "      <td>-0.293023</td>\n",
       "      <td>-1.374141</td>\n",
       "      <td>-2.382361</td>\n",
       "      <td>...</td>\n",
       "      <td>NaN</td>\n",
       "      <td>NaN</td>\n",
       "      <td>NaN</td>\n",
       "      <td>NaN</td>\n",
       "      <td>NaN</td>\n",
       "      <td>NaN</td>\n",
       "      <td>NaN</td>\n",
       "      <td>NaN</td>\n",
       "      <td>NaN</td>\n",
       "      <td>NaN</td>\n",
       "    </tr>\n",
       "    <tr>\n",
       "      <th>1</th>\n",
       "      <td>wave_point_4490</td>\n",
       "      <td>wave</td>\n",
       "      <td>multiclass</td>\n",
       "      <td>0</td>\n",
       "      <td>0.474350</td>\n",
       "      <td>anomaly</td>\n",
       "      <td>0.093905</td>\n",
       "      <td>-0.093717</td>\n",
       "      <td>1.891936</td>\n",
       "      <td>1.002227</td>\n",
       "      <td>...</td>\n",
       "      <td>NaN</td>\n",
       "      <td>NaN</td>\n",
       "      <td>NaN</td>\n",
       "      <td>NaN</td>\n",
       "      <td>NaN</td>\n",
       "      <td>NaN</td>\n",
       "      <td>NaN</td>\n",
       "      <td>NaN</td>\n",
       "      <td>NaN</td>\n",
       "      <td>NaN</td>\n",
       "    </tr>\n",
       "    <tr>\n",
       "      <th>2</th>\n",
       "      <td>wave_point_0454</td>\n",
       "      <td>wave</td>\n",
       "      <td>multiclass</td>\n",
       "      <td>2</td>\n",
       "      <td>0.000153</td>\n",
       "      <td>nominal</td>\n",
       "      <td>1.123475</td>\n",
       "      <td>-0.558765</td>\n",
       "      <td>0.688201</td>\n",
       "      <td>-1.336601</td>\n",
       "      <td>...</td>\n",
       "      <td>NaN</td>\n",
       "      <td>NaN</td>\n",
       "      <td>NaN</td>\n",
       "      <td>NaN</td>\n",
       "      <td>NaN</td>\n",
       "      <td>NaN</td>\n",
       "      <td>NaN</td>\n",
       "      <td>NaN</td>\n",
       "      <td>NaN</td>\n",
       "      <td>NaN</td>\n",
       "    </tr>\n",
       "    <tr>\n",
       "      <th>3</th>\n",
       "      <td>wave_point_2033</td>\n",
       "      <td>wave</td>\n",
       "      <td>multiclass</td>\n",
       "      <td>0</td>\n",
       "      <td>0.354121</td>\n",
       "      <td>anomaly</td>\n",
       "      <td>1.301670</td>\n",
       "      <td>-1.479368</td>\n",
       "      <td>-1.087939</td>\n",
       "      <td>-1.025700</td>\n",
       "      <td>...</td>\n",
       "      <td>NaN</td>\n",
       "      <td>NaN</td>\n",
       "      <td>NaN</td>\n",
       "      <td>NaN</td>\n",
       "      <td>NaN</td>\n",
       "      <td>NaN</td>\n",
       "      <td>NaN</td>\n",
       "      <td>NaN</td>\n",
       "      <td>NaN</td>\n",
       "      <td>NaN</td>\n",
       "    </tr>\n",
       "    <tr>\n",
       "      <th>4</th>\n",
       "      <td>wave_point_2294</td>\n",
       "      <td>wave</td>\n",
       "      <td>multiclass</td>\n",
       "      <td>0</td>\n",
       "      <td>0.349918</td>\n",
       "      <td>anomaly</td>\n",
       "      <td>-0.896067</td>\n",
       "      <td>-0.055754</td>\n",
       "      <td>-0.380850</td>\n",
       "      <td>1.221271</td>\n",
       "      <td>...</td>\n",
       "      <td>NaN</td>\n",
       "      <td>NaN</td>\n",
       "      <td>NaN</td>\n",
       "      <td>NaN</td>\n",
       "      <td>NaN</td>\n",
       "      <td>NaN</td>\n",
       "      <td>NaN</td>\n",
       "      <td>NaN</td>\n",
       "      <td>NaN</td>\n",
       "      <td>NaN</td>\n",
       "    </tr>\n",
       "  </tbody>\n",
       "</table>\n",
       "<p>5 rows × 90 columns</p>\n",
       "</div>"
      ],
      "text/plain": [
       "          point.id motherset      origin  original.label  diff.score  \\\n",
       "0  wave_point_0242      wave  multiclass               2    0.001130   \n",
       "1  wave_point_4490      wave  multiclass               0    0.474350   \n",
       "2  wave_point_0454      wave  multiclass               2    0.000153   \n",
       "3  wave_point_2033      wave  multiclass               0    0.354121   \n",
       "4  wave_point_2294      wave  multiclass               0    0.349918   \n",
       "\n",
       "  ground.truth         V       V.1       V.2       V.3  ...  noise..54  \\\n",
       "0      nominal  0.440395 -0.293023 -1.374141 -2.382361  ...        NaN   \n",
       "1      anomaly  0.093905 -0.093717  1.891936  1.002227  ...        NaN   \n",
       "2      nominal  1.123475 -0.558765  0.688201 -1.336601  ...        NaN   \n",
       "3      anomaly  1.301670 -1.479368 -1.087939 -1.025700  ...        NaN   \n",
       "4      anomaly -0.896067 -0.055754 -0.380850  1.221271  ...        NaN   \n",
       "\n",
       "   noise..55  noise..56  noise..57  noise..58  noise..59  noise..60  \\\n",
       "0        NaN        NaN        NaN        NaN        NaN        NaN   \n",
       "1        NaN        NaN        NaN        NaN        NaN        NaN   \n",
       "2        NaN        NaN        NaN        NaN        NaN        NaN   \n",
       "3        NaN        NaN        NaN        NaN        NaN        NaN   \n",
       "4        NaN        NaN        NaN        NaN        NaN        NaN   \n",
       "\n",
       "   noise..61  noise..62  noise..63  \n",
       "0        NaN        NaN        NaN  \n",
       "1        NaN        NaN        NaN  \n",
       "2        NaN        NaN        NaN  \n",
       "3        NaN        NaN        NaN  \n",
       "4        NaN        NaN        NaN  \n",
       "\n",
       "[5 rows x 90 columns]"
      ]
     },
     "execution_count": 49,
     "metadata": {},
     "output_type": "execute_result"
    }
   ],
   "source": [
    "data_wave.head(5)"
   ]
  },
  {
   "cell_type": "markdown",
   "metadata": {},
   "source": [
    "### 去除属性对应的缺失值"
   ]
  },
  {
   "cell_type": "code",
   "execution_count": 50,
   "metadata": {},
   "outputs": [
    {
     "name": "stdout",
     "output_type": "stream",
     "text": [
      "缺失值总数： 93310\n"
     ]
    },
    {
     "data": {
      "text/html": [
       "<div>\n",
       "<style scoped>\n",
       "    .dataframe tbody tr th:only-of-type {\n",
       "        vertical-align: middle;\n",
       "    }\n",
       "\n",
       "    .dataframe tbody tr th {\n",
       "        vertical-align: top;\n",
       "    }\n",
       "\n",
       "    .dataframe thead th {\n",
       "        text-align: right;\n",
       "    }\n",
       "</style>\n",
       "<table border=\"1\" class=\"dataframe\">\n",
       "  <thead>\n",
       "    <tr style=\"text-align: right;\">\n",
       "      <th></th>\n",
       "      <th>point.id</th>\n",
       "      <th>motherset</th>\n",
       "      <th>origin</th>\n",
       "      <th>original.label</th>\n",
       "      <th>diff.score</th>\n",
       "      <th>ground.truth</th>\n",
       "      <th>V</th>\n",
       "      <th>V.1</th>\n",
       "      <th>V.2</th>\n",
       "      <th>V.3</th>\n",
       "      <th>...</th>\n",
       "      <th>V.11</th>\n",
       "      <th>V.12</th>\n",
       "      <th>V.13</th>\n",
       "      <th>V.14</th>\n",
       "      <th>V.15</th>\n",
       "      <th>V.16</th>\n",
       "      <th>V.17</th>\n",
       "      <th>V.18</th>\n",
       "      <th>V.19</th>\n",
       "      <th>V.20</th>\n",
       "    </tr>\n",
       "  </thead>\n",
       "  <tbody>\n",
       "    <tr>\n",
       "      <th>0</th>\n",
       "      <td>wave_point_0242</td>\n",
       "      <td>wave</td>\n",
       "      <td>multiclass</td>\n",
       "      <td>2</td>\n",
       "      <td>0.001130</td>\n",
       "      <td>nominal</td>\n",
       "      <td>0.440395</td>\n",
       "      <td>-0.293023</td>\n",
       "      <td>-1.374141</td>\n",
       "      <td>-2.382361</td>\n",
       "      <td>...</td>\n",
       "      <td>0.235635</td>\n",
       "      <td>0.581920</td>\n",
       "      <td>0.745048</td>\n",
       "      <td>0.674833</td>\n",
       "      <td>0.397361</td>\n",
       "      <td>0.008963</td>\n",
       "      <td>1.677061</td>\n",
       "      <td>0.800549</td>\n",
       "      <td>-0.441398</td>\n",
       "      <td>-1.583270</td>\n",
       "    </tr>\n",
       "    <tr>\n",
       "      <th>1</th>\n",
       "      <td>wave_point_4490</td>\n",
       "      <td>wave</td>\n",
       "      <td>multiclass</td>\n",
       "      <td>0</td>\n",
       "      <td>0.474350</td>\n",
       "      <td>anomaly</td>\n",
       "      <td>0.093905</td>\n",
       "      <td>-0.093717</td>\n",
       "      <td>1.891936</td>\n",
       "      <td>1.002227</td>\n",
       "      <td>...</td>\n",
       "      <td>-0.134625</td>\n",
       "      <td>-1.791554</td>\n",
       "      <td>-0.698042</td>\n",
       "      <td>-0.598220</td>\n",
       "      <td>-0.894968</td>\n",
       "      <td>-0.823398</td>\n",
       "      <td>0.799381</td>\n",
       "      <td>-0.744561</td>\n",
       "      <td>0.418648</td>\n",
       "      <td>-1.613359</td>\n",
       "    </tr>\n",
       "    <tr>\n",
       "      <th>2</th>\n",
       "      <td>wave_point_0454</td>\n",
       "      <td>wave</td>\n",
       "      <td>multiclass</td>\n",
       "      <td>2</td>\n",
       "      <td>0.000153</td>\n",
       "      <td>nominal</td>\n",
       "      <td>1.123475</td>\n",
       "      <td>-0.558765</td>\n",
       "      <td>0.688201</td>\n",
       "      <td>-1.336601</td>\n",
       "      <td>...</td>\n",
       "      <td>1.538160</td>\n",
       "      <td>1.629397</td>\n",
       "      <td>1.017757</td>\n",
       "      <td>-0.241567</td>\n",
       "      <td>-0.094166</td>\n",
       "      <td>0.272444</td>\n",
       "      <td>-1.012604</td>\n",
       "      <td>-1.337549</td>\n",
       "      <td>-0.885293</td>\n",
       "      <td>-0.219266</td>\n",
       "    </tr>\n",
       "    <tr>\n",
       "      <th>3</th>\n",
       "      <td>wave_point_2033</td>\n",
       "      <td>wave</td>\n",
       "      <td>multiclass</td>\n",
       "      <td>0</td>\n",
       "      <td>0.354121</td>\n",
       "      <td>anomaly</td>\n",
       "      <td>1.301670</td>\n",
       "      <td>-1.479368</td>\n",
       "      <td>-1.087939</td>\n",
       "      <td>-1.025700</td>\n",
       "      <td>...</td>\n",
       "      <td>-0.167684</td>\n",
       "      <td>1.193453</td>\n",
       "      <td>1.012076</td>\n",
       "      <td>2.022189</td>\n",
       "      <td>3.236067</td>\n",
       "      <td>2.170706</td>\n",
       "      <td>0.990489</td>\n",
       "      <td>2.095101</td>\n",
       "      <td>2.767593</td>\n",
       "      <td>1.435593</td>\n",
       "    </tr>\n",
       "    <tr>\n",
       "      <th>4</th>\n",
       "      <td>wave_point_2294</td>\n",
       "      <td>wave</td>\n",
       "      <td>multiclass</td>\n",
       "      <td>0</td>\n",
       "      <td>0.349918</td>\n",
       "      <td>anomaly</td>\n",
       "      <td>-0.896067</td>\n",
       "      <td>-0.055754</td>\n",
       "      <td>-0.380850</td>\n",
       "      <td>1.221271</td>\n",
       "      <td>...</td>\n",
       "      <td>-1.536327</td>\n",
       "      <td>-1.500924</td>\n",
       "      <td>-0.976433</td>\n",
       "      <td>-0.261381</td>\n",
       "      <td>-0.342690</td>\n",
       "      <td>-1.571924</td>\n",
       "      <td>-0.403890</td>\n",
       "      <td>-0.569170</td>\n",
       "      <td>-1.181223</td>\n",
       "      <td>-0.640502</td>\n",
       "    </tr>\n",
       "  </tbody>\n",
       "</table>\n",
       "<p>5 rows × 27 columns</p>\n",
       "</div>"
      ],
      "text/plain": [
       "          point.id motherset      origin  original.label  diff.score  \\\n",
       "0  wave_point_0242      wave  multiclass               2    0.001130   \n",
       "1  wave_point_4490      wave  multiclass               0    0.474350   \n",
       "2  wave_point_0454      wave  multiclass               2    0.000153   \n",
       "3  wave_point_2033      wave  multiclass               0    0.354121   \n",
       "4  wave_point_2294      wave  multiclass               0    0.349918   \n",
       "\n",
       "  ground.truth         V       V.1       V.2       V.3  ...      V.11  \\\n",
       "0      nominal  0.440395 -0.293023 -1.374141 -2.382361  ...  0.235635   \n",
       "1      anomaly  0.093905 -0.093717  1.891936  1.002227  ... -0.134625   \n",
       "2      nominal  1.123475 -0.558765  0.688201 -1.336601  ...  1.538160   \n",
       "3      anomaly  1.301670 -1.479368 -1.087939 -1.025700  ... -0.167684   \n",
       "4      anomaly -0.896067 -0.055754 -0.380850  1.221271  ... -1.536327   \n",
       "\n",
       "       V.12      V.13      V.14      V.15      V.16      V.17      V.18  \\\n",
       "0  0.581920  0.745048  0.674833  0.397361  0.008963  1.677061  0.800549   \n",
       "1 -1.791554 -0.698042 -0.598220 -0.894968 -0.823398  0.799381 -0.744561   \n",
       "2  1.629397  1.017757 -0.241567 -0.094166  0.272444 -1.012604 -1.337549   \n",
       "3  1.193453  1.012076  2.022189  3.236067  2.170706  0.990489  2.095101   \n",
       "4 -1.500924 -0.976433 -0.261381 -0.342690 -1.571924 -0.403890 -0.569170   \n",
       "\n",
       "       V.19      V.20  \n",
       "0 -0.441398 -1.583270  \n",
       "1  0.418648 -1.613359  \n",
       "2 -0.885293 -0.219266  \n",
       "3  2.767593  1.435593  \n",
       "4 -1.181223 -0.640502  \n",
       "\n",
       "[5 rows x 27 columns]"
      ]
     },
     "execution_count": 50,
     "metadata": {},
     "output_type": "execute_result"
    }
   ],
   "source": [
    "print(\"缺失值总数：\", len(data_wave.dropna(axis=1)))\n",
    "data_wave = data_wave.dropna(axis=1)\n",
    "data_wave.head(5)"
   ]
  },
  {
   "cell_type": "markdown",
   "metadata": {},
   "source": [
    "###  异常数据一共31204条， 正常数据62106条"
   ]
  },
  {
   "cell_type": "code",
   "execution_count": 51,
   "metadata": {},
   "outputs": [
    {
     "data": {
      "text/plain": [
       "nominal    62106\n",
       "anomaly    31204\n",
       "Name: ground.truth, dtype: int64"
      ]
     },
     "execution_count": 51,
     "metadata": {},
     "output_type": "execute_result"
    }
   ],
   "source": [
    "data_wave['ground.truth'].value_counts()"
   ]
  },
  {
   "cell_type": "code",
   "execution_count": 52,
   "metadata": {},
   "outputs": [],
   "source": [
    "def anomally_target(df):\n",
    "    if df['ground.truth'] == 'anomaly':\n",
    "        return 1\n",
    "    else:\n",
    "        return 0\n",
    "data_wave_x = data_wave.loc[:, 'V':'V.20']\n",
    "data_wave['is_anomaly'] = data_wave.apply(anomally_target, axis=1)\n",
    "data_wave_y = data_wave.loc[:, 'is_anomaly']"
   ]
  },
  {
   "cell_type": "code",
   "execution_count": 53,
   "metadata": {},
   "outputs": [],
   "source": [
    "data_wave_x_train, data_wave_x_test, data_wave_y_train, data_wave_y_test = train_test_split(data_wave_x, data_wave_y, test_size=0.2, random_state=0)"
   ]
  },
  {
   "cell_type": "code",
   "execution_count": 54,
   "metadata": {},
   "outputs": [],
   "source": [
    "assert len(data_wave_x_train) == len(data_wave_y_train)"
   ]
  },
  {
   "cell_type": "code",
   "execution_count": 55,
   "metadata": {},
   "outputs": [
    {
     "name": "stdout",
     "output_type": "stream",
     "text": [
      "训练集数和验证集数分别是： 74648 18662\n"
     ]
    }
   ],
   "source": [
    "print(\"训练集数和验证集数分别是：\", len(data_wave_x_train), len(data_wave_x_test))"
   ]
  },
  {
   "cell_type": "markdown",
   "metadata": {},
   "source": [
    "### 使用knn进行训练"
   ]
  },
  {
   "cell_type": "code",
   "execution_count": 56,
   "metadata": {},
   "outputs": [
    {
     "data": {
      "text/plain": [
       "KNN(algorithm='auto', contamination=0.1, leaf_size=30, method='largest',\n",
       "  metric='minkowski', metric_params=None, n_jobs=1, n_neighbors=5, p=2,\n",
       "  radius=1.0)"
      ]
     },
     "execution_count": 56,
     "metadata": {},
     "output_type": "execute_result"
    }
   ],
   "source": [
    "clf_name = 'KNN'\n",
    "clf_knn = KNN()\n",
    "clf_knn.fit(data_wave_x_train)"
   ]
  },
  {
   "cell_type": "code",
   "execution_count": 57,
   "metadata": {},
   "outputs": [],
   "source": [
    "data_wave_y_train_pred = clf_knn.labels_\n",
    "data_wave_y_train_scores = clf_knn.decision_scores_"
   ]
  },
  {
   "cell_type": "code",
   "execution_count": 58,
   "metadata": {},
   "outputs": [
    {
     "name": "stdout",
     "output_type": "stream",
     "text": [
      "[0. 0. 0. ... 0. 0. 0.]\n",
      "[0 0 0 ... 0 0 0]\n"
     ]
    }
   ],
   "source": [
    "print(data_wave_y_train_scores)\n",
    "print(data_wave_y_train_pred)"
   ]
  },
  {
   "cell_type": "code",
   "execution_count": 60,
   "metadata": {},
   "outputs": [
    {
     "name": "stdout",
     "output_type": "stream",
     "text": [
      "[0 0 0 ... 0 0 0]\n",
      "[0. 0. 0. ... 0. 0. 0.]\n"
     ]
    }
   ],
   "source": [
    "data_wave_y_test_pred = clf_knn.predict(data_wave_x_test)  # 返回未知数据上的分类标签 (0: 正常值, 1: 异常值)\n",
    "data_wave_y_test_scores = clf_knn.decision_function(data_wave_x_test)\n",
    "print(data_wave_y_test_pred)\n",
    "print(data_wave_y_test_scores)"
   ]
  },
  {
   "cell_type": "code",
   "execution_count": 61,
   "metadata": {},
   "outputs": [
    {
     "name": "stdout",
     "output_type": "stream",
     "text": [
      "KNN ROC:0.4998, precision @ rank n:0.0\n"
     ]
    }
   ],
   "source": [
    "evaluate_print(clf_name,data_wave_y_test , data_wave_y_test_scores)"
   ]
  },
  {
   "cell_type": "code",
   "execution_count": 66,
   "metadata": {},
   "outputs": [
    {
     "name": "stdout",
     "output_type": "stream",
     "text": [
      "0.665148429964634 0.0\n"
     ]
    }
   ],
   "source": [
    "acc, recall =  accuracy_score(data_wave_y_test,data_wave_y_test_pred),recall_score(data_wave_y_test, data_wave_y_test_pred)\n",
    "print(acc, recall)"
   ]
  },
  {
   "cell_type": "markdown",
   "metadata": {},
   "source": [
    "## Wine Benchmarks¶\n"
   ]
  },
  {
   "cell_type": "code",
   "execution_count": 82,
   "metadata": {},
   "outputs": [
    {
     "name": "stdout",
     "output_type": "stream",
     "text": [
      "74060\n"
     ]
    }
   ],
   "source": [
    "path = '.\\\\wine_benchmarks\\\\wine\\\\benchmarks'\n",
    "data_wine = pd.read_csv('.\\\\wine_benchmarks\\\\wine\\\\benchmarks\\\\wine_benchmark_0001.csv')\n",
    "for i, file_name in enumerate(os.listdir('.\\\\wine_benchmarks\\\\wine\\\\benchmarks')[1:20]):\n",
    "    data_wine_i = pd.read_csv(path + '\\\\' + file_name)\n",
    "    data_wine = pd.concat([data_wine, data_wine_i], ignore_index=True, sort=False)\n",
    "print(len(data_wine))"
   ]
  },
  {
   "cell_type": "markdown",
   "metadata": {},
   "source": [
    "### 数据摘要\n"
   ]
  },
  {
   "cell_type": "code",
   "execution_count": 83,
   "metadata": {},
   "outputs": [
    {
     "data": {
      "text/html": [
       "<div>\n",
       "<style scoped>\n",
       "    .dataframe tbody tr th:only-of-type {\n",
       "        vertical-align: middle;\n",
       "    }\n",
       "\n",
       "    .dataframe tbody tr th {\n",
       "        vertical-align: top;\n",
       "    }\n",
       "\n",
       "    .dataframe thead th {\n",
       "        text-align: right;\n",
       "    }\n",
       "</style>\n",
       "<table border=\"1\" class=\"dataframe\">\n",
       "  <thead>\n",
       "    <tr style=\"text-align: right;\">\n",
       "      <th></th>\n",
       "      <th>point.id</th>\n",
       "      <th>motherset</th>\n",
       "      <th>origin</th>\n",
       "      <th>original.label</th>\n",
       "      <th>diff.score</th>\n",
       "      <th>ground.truth</th>\n",
       "      <th>fixed.acidity</th>\n",
       "      <th>volatile.acidity</th>\n",
       "      <th>citric.acid</th>\n",
       "      <th>residual.sugar</th>\n",
       "      <th>...</th>\n",
       "      <th>noise..24</th>\n",
       "      <th>noise..25</th>\n",
       "      <th>noise..26</th>\n",
       "      <th>noise..27</th>\n",
       "      <th>noise..28</th>\n",
       "      <th>noise..29</th>\n",
       "      <th>noise..30</th>\n",
       "      <th>noise..31</th>\n",
       "      <th>noise..32</th>\n",
       "      <th>noise..33</th>\n",
       "    </tr>\n",
       "  </thead>\n",
       "  <tbody>\n",
       "    <tr>\n",
       "      <th>0</th>\n",
       "      <td>wine_point_3594</td>\n",
       "      <td>wine</td>\n",
       "      <td>regression</td>\n",
       "      <td>7</td>\n",
       "      <td>0.050492</td>\n",
       "      <td>nominal</td>\n",
       "      <td>-1.245962</td>\n",
       "      <td>-0.362411</td>\n",
       "      <td>-0.265853</td>\n",
       "      <td>-0.261304</td>\n",
       "      <td>...</td>\n",
       "      <td>NaN</td>\n",
       "      <td>NaN</td>\n",
       "      <td>NaN</td>\n",
       "      <td>NaN</td>\n",
       "      <td>NaN</td>\n",
       "      <td>NaN</td>\n",
       "      <td>NaN</td>\n",
       "      <td>NaN</td>\n",
       "      <td>NaN</td>\n",
       "      <td>NaN</td>\n",
       "    </tr>\n",
       "    <tr>\n",
       "      <th>1</th>\n",
       "      <td>wine_point_5089</td>\n",
       "      <td>wine</td>\n",
       "      <td>regression</td>\n",
       "      <td>5</td>\n",
       "      <td>0.082237</td>\n",
       "      <td>anomaly</td>\n",
       "      <td>0.759540</td>\n",
       "      <td>0.973867</td>\n",
       "      <td>0.215849</td>\n",
       "      <td>-0.534540</td>\n",
       "      <td>...</td>\n",
       "      <td>NaN</td>\n",
       "      <td>NaN</td>\n",
       "      <td>NaN</td>\n",
       "      <td>NaN</td>\n",
       "      <td>NaN</td>\n",
       "      <td>NaN</td>\n",
       "      <td>NaN</td>\n",
       "      <td>NaN</td>\n",
       "      <td>NaN</td>\n",
       "      <td>NaN</td>\n",
       "    </tr>\n",
       "    <tr>\n",
       "      <th>2</th>\n",
       "      <td>wine_point_1912</td>\n",
       "      <td>wine</td>\n",
       "      <td>regression</td>\n",
       "      <td>6</td>\n",
       "      <td>0.290201</td>\n",
       "      <td>nominal</td>\n",
       "      <td>-0.088942</td>\n",
       "      <td>-0.969809</td>\n",
       "      <td>-0.403482</td>\n",
       "      <td>-0.870829</td>\n",
       "      <td>...</td>\n",
       "      <td>NaN</td>\n",
       "      <td>NaN</td>\n",
       "      <td>NaN</td>\n",
       "      <td>NaN</td>\n",
       "      <td>NaN</td>\n",
       "      <td>NaN</td>\n",
       "      <td>NaN</td>\n",
       "      <td>NaN</td>\n",
       "      <td>NaN</td>\n",
       "      <td>NaN</td>\n",
       "    </tr>\n",
       "    <tr>\n",
       "      <th>3</th>\n",
       "      <td>wine_point_4908</td>\n",
       "      <td>wine</td>\n",
       "      <td>regression</td>\n",
       "      <td>5</td>\n",
       "      <td>0.053559</td>\n",
       "      <td>anomaly</td>\n",
       "      <td>0.219597</td>\n",
       "      <td>0.973867</td>\n",
       "      <td>0.284664</td>\n",
       "      <td>0.138039</td>\n",
       "      <td>...</td>\n",
       "      <td>NaN</td>\n",
       "      <td>NaN</td>\n",
       "      <td>NaN</td>\n",
       "      <td>NaN</td>\n",
       "      <td>NaN</td>\n",
       "      <td>NaN</td>\n",
       "      <td>NaN</td>\n",
       "      <td>NaN</td>\n",
       "      <td>NaN</td>\n",
       "      <td>NaN</td>\n",
       "    </tr>\n",
       "    <tr>\n",
       "      <th>4</th>\n",
       "      <td>wine_point_2246</td>\n",
       "      <td>wine</td>\n",
       "      <td>regression</td>\n",
       "      <td>7</td>\n",
       "      <td>0.420300</td>\n",
       "      <td>nominal</td>\n",
       "      <td>0.219597</td>\n",
       "      <td>-0.180191</td>\n",
       "      <td>-0.541112</td>\n",
       "      <td>0.348220</td>\n",
       "      <td>...</td>\n",
       "      <td>NaN</td>\n",
       "      <td>NaN</td>\n",
       "      <td>NaN</td>\n",
       "      <td>NaN</td>\n",
       "      <td>NaN</td>\n",
       "      <td>NaN</td>\n",
       "      <td>NaN</td>\n",
       "      <td>NaN</td>\n",
       "      <td>NaN</td>\n",
       "      <td>NaN</td>\n",
       "    </tr>\n",
       "  </tbody>\n",
       "</table>\n",
       "<p>5 rows × 50 columns</p>\n",
       "</div>"
      ],
      "text/plain": [
       "          point.id motherset      origin  original.label  diff.score  \\\n",
       "0  wine_point_3594      wine  regression               7    0.050492   \n",
       "1  wine_point_5089      wine  regression               5    0.082237   \n",
       "2  wine_point_1912      wine  regression               6    0.290201   \n",
       "3  wine_point_4908      wine  regression               5    0.053559   \n",
       "4  wine_point_2246      wine  regression               7    0.420300   \n",
       "\n",
       "  ground.truth  fixed.acidity  volatile.acidity  citric.acid  residual.sugar  \\\n",
       "0      nominal      -1.245962         -0.362411    -0.265853       -0.261304   \n",
       "1      anomaly       0.759540          0.973867     0.215849       -0.534540   \n",
       "2      nominal      -0.088942         -0.969809    -0.403482       -0.870829   \n",
       "3      anomaly       0.219597          0.973867     0.284664        0.138039   \n",
       "4      nominal       0.219597         -0.180191    -0.541112        0.348220   \n",
       "\n",
       "   ...  noise..24  noise..25  noise..26  noise..27  noise..28  noise..29  \\\n",
       "0  ...        NaN        NaN        NaN        NaN        NaN        NaN   \n",
       "1  ...        NaN        NaN        NaN        NaN        NaN        NaN   \n",
       "2  ...        NaN        NaN        NaN        NaN        NaN        NaN   \n",
       "3  ...        NaN        NaN        NaN        NaN        NaN        NaN   \n",
       "4  ...        NaN        NaN        NaN        NaN        NaN        NaN   \n",
       "\n",
       "   noise..30  noise..31  noise..32  noise..33  \n",
       "0        NaN        NaN        NaN        NaN  \n",
       "1        NaN        NaN        NaN        NaN  \n",
       "2        NaN        NaN        NaN        NaN  \n",
       "3        NaN        NaN        NaN        NaN  \n",
       "4        NaN        NaN        NaN        NaN  \n",
       "\n",
       "[5 rows x 50 columns]"
      ]
     },
     "execution_count": 83,
     "metadata": {},
     "output_type": "execute_result"
    }
   ],
   "source": [
    "data_wine.head(5)"
   ]
  },
  {
   "cell_type": "markdown",
   "metadata": {},
   "source": [
    "### 去除属性对应的缺失值"
   ]
  },
  {
   "cell_type": "code",
   "execution_count": 84,
   "metadata": {},
   "outputs": [
    {
     "name": "stdout",
     "output_type": "stream",
     "text": [
      "缺失值总数： 93310\n"
     ]
    },
    {
     "data": {
      "text/html": [
       "<div>\n",
       "<style scoped>\n",
       "    .dataframe tbody tr th:only-of-type {\n",
       "        vertical-align: middle;\n",
       "    }\n",
       "\n",
       "    .dataframe tbody tr th {\n",
       "        vertical-align: top;\n",
       "    }\n",
       "\n",
       "    .dataframe thead th {\n",
       "        text-align: right;\n",
       "    }\n",
       "</style>\n",
       "<table border=\"1\" class=\"dataframe\">\n",
       "  <thead>\n",
       "    <tr style=\"text-align: right;\">\n",
       "      <th></th>\n",
       "      <th>point.id</th>\n",
       "      <th>motherset</th>\n",
       "      <th>origin</th>\n",
       "      <th>original.label</th>\n",
       "      <th>diff.score</th>\n",
       "      <th>ground.truth</th>\n",
       "      <th>fixed.acidity</th>\n",
       "      <th>volatile.acidity</th>\n",
       "      <th>citric.acid</th>\n",
       "      <th>residual.sugar</th>\n",
       "      <th>chlorides</th>\n",
       "      <th>free.sulfur.dioxide</th>\n",
       "      <th>total.sulfur.dioxide</th>\n",
       "      <th>density</th>\n",
       "      <th>pH</th>\n",
       "      <th>sulphates</th>\n",
       "      <th>alcohol</th>\n",
       "    </tr>\n",
       "  </thead>\n",
       "  <tbody>\n",
       "    <tr>\n",
       "      <th>0</th>\n",
       "      <td>wine_point_3594</td>\n",
       "      <td>wine</td>\n",
       "      <td>regression</td>\n",
       "      <td>7</td>\n",
       "      <td>0.050492</td>\n",
       "      <td>nominal</td>\n",
       "      <td>-1.245962</td>\n",
       "      <td>-0.362411</td>\n",
       "      <td>-0.265853</td>\n",
       "      <td>-0.261304</td>\n",
       "      <td>-0.343495</td>\n",
       "      <td>1.209882</td>\n",
       "      <td>0.747594</td>\n",
       "      <td>-0.899276</td>\n",
       "      <td>0.817846</td>\n",
       "      <td>-0.613338</td>\n",
       "      <td>0.174560</td>\n",
       "    </tr>\n",
       "    <tr>\n",
       "      <th>1</th>\n",
       "      <td>wine_point_5089</td>\n",
       "      <td>wine</td>\n",
       "      <td>regression</td>\n",
       "      <td>5</td>\n",
       "      <td>0.082237</td>\n",
       "      <td>anomaly</td>\n",
       "      <td>0.759540</td>\n",
       "      <td>0.973867</td>\n",
       "      <td>0.215849</td>\n",
       "      <td>-0.534540</td>\n",
       "      <td>0.598458</td>\n",
       "      <td>-0.536656</td>\n",
       "      <td>0.199134</td>\n",
       "      <td>0.968217</td>\n",
       "      <td>0.071518</td>\n",
       "      <td>0.596292</td>\n",
       "      <td>-0.915394</td>\n",
       "    </tr>\n",
       "    <tr>\n",
       "      <th>2</th>\n",
       "      <td>wine_point_1912</td>\n",
       "      <td>wine</td>\n",
       "      <td>regression</td>\n",
       "      <td>6</td>\n",
       "      <td>0.290201</td>\n",
       "      <td>nominal</td>\n",
       "      <td>-0.088942</td>\n",
       "      <td>-0.969809</td>\n",
       "      <td>-0.403482</td>\n",
       "      <td>-0.870829</td>\n",
       "      <td>-0.429127</td>\n",
       "      <td>-0.592996</td>\n",
       "      <td>-0.791633</td>\n",
       "      <td>-0.699187</td>\n",
       "      <td>-1.110168</td>\n",
       "      <td>1.402712</td>\n",
       "      <td>-0.496181</td>\n",
       "    </tr>\n",
       "    <tr>\n",
       "      <th>3</th>\n",
       "      <td>wine_point_4908</td>\n",
       "      <td>wine</td>\n",
       "      <td>regression</td>\n",
       "      <td>5</td>\n",
       "      <td>0.053559</td>\n",
       "      <td>anomaly</td>\n",
       "      <td>0.219597</td>\n",
       "      <td>0.973867</td>\n",
       "      <td>0.284664</td>\n",
       "      <td>0.138039</td>\n",
       "      <td>0.427194</td>\n",
       "      <td>-0.762016</td>\n",
       "      <td>-0.243173</td>\n",
       "      <td>1.034913</td>\n",
       "      <td>0.817846</td>\n",
       "      <td>1.805921</td>\n",
       "      <td>0.006874</td>\n",
       "    </tr>\n",
       "    <tr>\n",
       "      <th>4</th>\n",
       "      <td>wine_point_2246</td>\n",
       "      <td>wine</td>\n",
       "      <td>regression</td>\n",
       "      <td>7</td>\n",
       "      <td>0.420300</td>\n",
       "      <td>nominal</td>\n",
       "      <td>0.219597</td>\n",
       "      <td>-0.180191</td>\n",
       "      <td>-0.541112</td>\n",
       "      <td>0.348220</td>\n",
       "      <td>-0.714567</td>\n",
       "      <td>-0.142276</td>\n",
       "      <td>0.446826</td>\n",
       "      <td>-0.242318</td>\n",
       "      <td>-0.363840</td>\n",
       "      <td>-1.016548</td>\n",
       "      <td>0.090717</td>\n",
       "    </tr>\n",
       "  </tbody>\n",
       "</table>\n",
       "</div>"
      ],
      "text/plain": [
       "          point.id motherset      origin  original.label  diff.score  \\\n",
       "0  wine_point_3594      wine  regression               7    0.050492   \n",
       "1  wine_point_5089      wine  regression               5    0.082237   \n",
       "2  wine_point_1912      wine  regression               6    0.290201   \n",
       "3  wine_point_4908      wine  regression               5    0.053559   \n",
       "4  wine_point_2246      wine  regression               7    0.420300   \n",
       "\n",
       "  ground.truth  fixed.acidity  volatile.acidity  citric.acid  residual.sugar  \\\n",
       "0      nominal      -1.245962         -0.362411    -0.265853       -0.261304   \n",
       "1      anomaly       0.759540          0.973867     0.215849       -0.534540   \n",
       "2      nominal      -0.088942         -0.969809    -0.403482       -0.870829   \n",
       "3      anomaly       0.219597          0.973867     0.284664        0.138039   \n",
       "4      nominal       0.219597         -0.180191    -0.541112        0.348220   \n",
       "\n",
       "   chlorides  free.sulfur.dioxide  total.sulfur.dioxide   density        pH  \\\n",
       "0  -0.343495             1.209882              0.747594 -0.899276  0.817846   \n",
       "1   0.598458            -0.536656              0.199134  0.968217  0.071518   \n",
       "2  -0.429127            -0.592996             -0.791633 -0.699187 -1.110168   \n",
       "3   0.427194            -0.762016             -0.243173  1.034913  0.817846   \n",
       "4  -0.714567            -0.142276              0.446826 -0.242318 -0.363840   \n",
       "\n",
       "   sulphates   alcohol  \n",
       "0  -0.613338  0.174560  \n",
       "1   0.596292 -0.915394  \n",
       "2   1.402712 -0.496181  \n",
       "3   1.805921  0.006874  \n",
       "4  -1.016548  0.090717  "
      ]
     },
     "execution_count": 84,
     "metadata": {},
     "output_type": "execute_result"
    }
   ],
   "source": [
    "print(\"缺失值总数：\", len(data_wave.dropna(axis=1)))\n",
    "data_wine = data_wine.dropna(axis=1)\n",
    "data_wine.head(5)"
   ]
  },
  {
   "cell_type": "markdown",
   "metadata": {},
   "source": [
    "### 统计异常数据， 异常点有40638条，非异常数据有70452条"
   ]
  },
  {
   "cell_type": "code",
   "execution_count": 85,
   "metadata": {},
   "outputs": [
    {
     "data": {
      "text/plain": [
       "nominal    47049\n",
       "anomaly    27011\n",
       "Name: ground.truth, dtype: int64"
      ]
     },
     "execution_count": 85,
     "metadata": {},
     "output_type": "execute_result"
    }
   ],
   "source": [
    "data_wine['ground.truth'].value_counts()"
   ]
  },
  {
   "cell_type": "code",
   "execution_count": 86,
   "metadata": {},
   "outputs": [],
   "source": [
    "def anomally_target(df):\n",
    "    if df['ground.truth'] == 'anomaly':\n",
    "        return 1\n",
    "    else:\n",
    "        return 0\n",
    "data_wine_x = data_wine.loc[:, 'fixed.acidity':'alcohol']\n",
    "data_wine['is_anomaly'] = data_wave.apply(anomally_target, axis=1)\n",
    "data_wine_y = data_wine.loc[:, 'is_anomaly']\n",
    "data_wine_x = data_wine.loc[:, 'fixed.acidity':'alcohol']\n",
    "data_wine['is_anomaly'] = data_wine.apply(anomally_target, axis=1)\n",
    "data_wine_y = data_wine.loc[:, 'is_anomaly']"
   ]
  },
  {
   "cell_type": "code",
   "execution_count": 87,
   "metadata": {},
   "outputs": [],
   "source": [
    "data_wine_x_train, data_wine_x_test, data_wine_y_train, data_wine_y_test = train_test_split(data_wine_x, data_wine_y, test_size=0.2, random_state=0)"
   ]
  },
  {
   "cell_type": "code",
   "execution_count": 88,
   "metadata": {},
   "outputs": [],
   "source": [
    "assert len(data_wine_x_train) == len(data_wine_y_train)"
   ]
  },
  {
   "cell_type": "code",
   "execution_count": 89,
   "metadata": {},
   "outputs": [
    {
     "name": "stdout",
     "output_type": "stream",
     "text": [
      "训练集数和验证集数分别是： 59248 14812\n"
     ]
    }
   ],
   "source": [
    "print(\"训练集数和验证集数分别是：\", len(data_wine_x_train), len(data_wine_x_test))"
   ]
  },
  {
   "cell_type": "markdown",
   "metadata": {},
   "source": [
    "### 使用KNN进行训练"
   ]
  },
  {
   "cell_type": "code",
   "execution_count": 90,
   "metadata": {},
   "outputs": [
    {
     "data": {
      "text/plain": [
       "KNN(algorithm='auto', contamination=0.1, leaf_size=30, method='largest',\n",
       "  metric='minkowski', metric_params=None, n_jobs=1, n_neighbors=5, p=2,\n",
       "  radius=1.0)"
      ]
     },
     "execution_count": 90,
     "metadata": {},
     "output_type": "execute_result"
    }
   ],
   "source": [
    "clf_knn = KNN()\n",
    "clf_knn.fit(data_wine_x_train)"
   ]
  },
  {
   "cell_type": "code",
   "execution_count": 91,
   "metadata": {},
   "outputs": [
    {
     "name": "stdout",
     "output_type": "stream",
     "text": [
      "[0. 0. 0. ... 0. 0. 0.]\n",
      "[0 0 0 ... 0 0 0]\n"
     ]
    }
   ],
   "source": [
    "data_wine_y_train_pred = clf_knn.labels_\n",
    "data_wine_y_train_scores = clf_knn.decision_scores_\n",
    "print(data_wine_y_train_scores)\n",
    "print(data_wine_y_train_pred)"
   ]
  },
  {
   "cell_type": "code",
   "execution_count": 92,
   "metadata": {},
   "outputs": [
    {
     "name": "stdout",
     "output_type": "stream",
     "text": [
      "[0 0 0 ... 0 0 0]\n",
      "[0. 0. 0. ... 0. 0. 0.]\n"
     ]
    }
   ],
   "source": [
    "data_wine_y_test_pred = clf_knn.predict(data_wine_x_test)  # 返回未知数据上的分类标签 (0: 正常值, 1: 异常值)\n",
    "data_wine_y_test_scores = clf_knn.decision_function(data_wine_x_test)\n",
    "print(data_wine_y_test_pred)\n",
    "print(data_wine_y_test_scores)"
   ]
  },
  {
   "cell_type": "code",
   "execution_count": 93,
   "metadata": {},
   "outputs": [
    {
     "name": "stdout",
     "output_type": "stream",
     "text": [
      "KNN ROC:0.4993, precision @ rank n:0.3494\n"
     ]
    }
   ],
   "source": [
    "evaluate_print(clf_name,data_wine_y_test , data_wine_y_test_scores)"
   ]
  },
  {
   "cell_type": "code",
   "execution_count": 94,
   "metadata": {},
   "outputs": [
    {
     "name": "stdout",
     "output_type": "stream",
     "text": [
      "0.665148429964634 0.0\n"
     ]
    }
   ],
   "source": [
    "acc, recall =  accuracy_score(data_wave_y_test,data_wave_y_test_pred),recall_score(data_wave_y_test, data_wave_y_test_pred)\n",
    "print(acc, recall)"
   ]
  },
  {
   "cell_type": "code",
   "execution_count": null,
   "metadata": {},
   "outputs": [],
   "source": []
  }
 ],
 "metadata": {
  "kernelspec": {
   "display_name": "py3.6",
   "language": "python",
   "name": "py3.6"
  },
  "language_info": {
   "codemirror_mode": {
    "name": "ipython",
    "version": 3
   },
   "file_extension": ".py",
   "mimetype": "text/x-python",
   "name": "python",
   "nbconvert_exporter": "python",
   "pygments_lexer": "ipython3",
   "version": "3.6.9"
  }
 },
 "nbformat": 4,
 "nbformat_minor": 2
}
